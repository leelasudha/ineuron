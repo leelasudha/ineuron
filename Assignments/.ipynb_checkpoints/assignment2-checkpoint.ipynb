{
 "cells": [
  {
   "cell_type": "code",
   "execution_count": 1,
   "metadata": {
    "colab": {
     "base_uri": "https://localhost:8080/",
     "height": 187
    },
    "colab_type": "code",
    "id": "cEaEhxvRF21N",
    "outputId": "eb4f40fd-fc65-4090-96a0-5fabafb211c1"
   },
   "outputs": [
    {
     "name": "stdout",
     "output_type": "stream",
     "text": [
      "\r\n",
      "*\r\n",
      "**\r\n",
      "***\r\n",
      "****\r\n",
      "*****\r\n",
      "****\r\n",
      "***\r\n",
      "**\r\n",
      "*\r\n"
     ]
    }
   ],
   "source": [
    "#Create the below pattern using nested for loop in python\n",
    "n = 6\n",
    "for i in range(1,n):\n",
    "  for j in range(1,i):\n",
    "    print(\"*\", end = '')\n",
    "  print('\\r')\n",
    " \n",
    "for i in range(1,n):\n",
    "  for j in range(n-i):\n",
    "    print(\"*\", end='')\n",
    "  print('\\r')"
   ]
  },
  {
   "cell_type": "code",
   "execution_count": 2,
   "metadata": {
    "colab": {
     "base_uri": "https://localhost:8080/",
     "height": 68
    },
    "colab_type": "code",
    "id": "dM8xeFxBK23X",
    "outputId": "8b782e48-27ec-4356-8787-e0036b22ed3e"
   },
   "outputs": [
    {
     "name": "stdout",
     "output_type": "stream",
     "text": [
      "Enter a string: ineuron\n",
      "ineuron\n",
      "norueni\n"
     ]
    }
   ],
   "source": [
    "#Write a Python program to reverse a word after accepting the input from the user.\n",
    "a = input('Enter a string: ')\n",
    "print(a)\n",
    "print(a[::-1])"
   ]
  },
  {
   "cell_type": "code",
   "execution_count": null,
   "metadata": {},
   "outputs": [],
   "source": []
  }
 ],
 "metadata": {
  "colab": {
   "name": "patterns.ipynb",
   "provenance": []
  },
  "kernelspec": {
   "display_name": "Python 3",
   "language": "python",
   "name": "python3"
  },
  "language_info": {
   "codemirror_mode": {
    "name": "ipython",
    "version": 3
   },
   "file_extension": ".py",
   "mimetype": "text/x-python",
   "name": "python",
   "nbconvert_exporter": "python",
   "pygments_lexer": "ipython3",
   "version": "3.7.1"
  }
 },
 "nbformat": 4,
 "nbformat_minor": 1
}
